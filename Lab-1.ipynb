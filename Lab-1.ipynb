{
 "cells": [
  {
   "cell_type": "markdown",
   "id": "663457b5",
   "metadata": {},
   "source": [
    "### 1) Creating two Lists & concatenate them"
   ]
  },
  {
   "cell_type": "code",
   "execution_count": 8,
   "id": "50d17a06",
   "metadata": {},
   "outputs": [
    {
     "name": "stdout",
     "output_type": "stream",
     "text": [
      "{'India': 'Kohli', 'England': 'Root', 'NZ': 'Williaamson', 'Aus': 'Smith'}\n",
      "[('India', 'Kohli'), ('England', 'Root'), ('NZ', 'Williaamson'), ('Aus', 'Smith')]\n"
     ]
    }
   ],
   "source": [
    "ListTeams =[\"India\", \"England\", \"NZ\", \"Aus\"]\n",
    "ListCaptains =[\"Kohli\",\"Root\",\"Williaamson\", \"Smith\"]\n",
    "\n",
    "#concatenate two lists index wise\n",
    "#create dictionary\n",
    "zipp = zip(ListTeams,ListCaptains)\n",
    "zipdict = dict(zipp)\n",
    "print(zipdict)\n",
    "\n",
    "\n",
    "#create by list\n",
    "zipped = zip(ListTeams,ListCaptains)\n",
    "ziplist = list(zipped)\n",
    "print(ziplist)\n",
    "\n",
    "\n"
   ]
  },
  {
   "cell_type": "markdown",
   "id": "f5aba423",
   "metadata": {},
   "source": [
    "### 2) Given a list of books, their prices, and the quantities that you purchased, print out the total amount spent on each item"
   ]
  },
  {
   "cell_type": "code",
   "execution_count": 10,
   "id": "2c75f600",
   "metadata": {},
   "outputs": [
    {
     "name": "stdout",
     "output_type": "stream",
     "text": [
      "You bought 3 textbooks for $300\n",
      "You bought 2 exercise books for $120\n",
      "You bought 1 story book for $90\n",
      "You bought 4 drawing books for $280\n"
     ]
    }
   ],
   "source": [
    "books = [\"textbooks\", \"exercise books\", \"story book\", \"drawing books\"]\n",
    "prices = [100,60,90,70]\n",
    "quantity = [3,2,1,4]\n",
    "#concatenate & print\n",
    "for i in range(len(books)):\n",
    "     print(\" You bought\",quantity[i], books[i],\"for\",\"$\",prices[i]* quantity[i])\n",
    "            \n",
    "#another solution\n",
    "for x,y,z in zip(books,prices,quantity):\n",
    "    print(f\"You bought {z} {x} for ${y*z}\")\n",
    "         \n",
    "          \n"
   ]
  },
  {
   "cell_type": "markdown",
   "id": "e0e94118",
   "metadata": {},
   "source": [
    "### 3) Given a Python list. Add 10 to each item of the list 1."
   ]
  },
  {
   "cell_type": "code",
   "execution_count": 13,
   "id": "8a43f25a",
   "metadata": {},
   "outputs": [
    {
     "name": "stdout",
     "output_type": "stream",
     "text": [
      "[12, 14, 16, 18, 20]\n"
     ]
    }
   ],
   "source": [
    "ListNo = [2,4,6,8,10]\n",
    "\n",
    "x = [i+10 for i in ListNo]\n",
    "print(x)\n",
    "\n"
   ]
  },
  {
   "cell_type": "markdown",
   "id": "b5e94d19",
   "metadata": {},
   "source": [
    "### 4) Given a two Python list. Write a program to iterate both lists simultaneously and display items from list1 in original order and items from list2 in reverse order\n"
   ]
  },
  {
   "cell_type": "code",
   "execution_count": 15,
   "id": "cfda4d7c",
   "metadata": {},
   "outputs": [
    {
     "name": "stdout",
     "output_type": "stream",
     "text": [
      "10 Grapes\n",
      "20 Oranges\n",
      "30 Mangoes\n",
      "40 Apples\n"
     ]
    }
   ],
   "source": [
    "list1 = [10, 20, 30, 40]\n",
    "list2 = [\"Apples\", \"Mangoes\", \"Oranges\", \"Grapes\"]\n",
    "list2.reverse()\n",
    "\n",
    "for i in range(len(list1)):\n",
    "    print(list1[i],list2[i])"
   ]
  },
  {
   "cell_type": "code",
   "execution_count": 1,
   "id": "f7e872bc",
   "metadata": {},
   "outputs": [
    {
     "name": "stdout",
     "output_type": "stream",
     "text": [
      "10 Grapes\n",
      "20 Oranges\n",
      "30 Mangoes\n",
      "40 Apples\n"
     ]
    }
   ],
   "source": [
    "#another method\n",
    "list1 = [10, 20, 30, 40]\n",
    "list2 = [\"Apples\", \"Mangoes\", \"Oranges\", \"Grapes\"]\n",
    "list2.reverse()\n",
    "for x,y in zip(list1,list2):\n",
    "    print(x,y)"
   ]
  },
  {
   "cell_type": "code",
   "execution_count": 7,
   "id": "95cf5552",
   "metadata": {},
   "outputs": [
    {
     "name": "stdout",
     "output_type": "stream",
     "text": [
      "10 Grapes\n",
      "20 Oranges\n",
      "30 Mangoes\n",
      "40 Apples\n"
     ]
    }
   ],
   "source": [
    "#by using negative indexing and slicing in python\n",
    "#list1[-4]\n",
    "list1 = [10, 20, 30, 40]\n",
    "list2 = [\"Apples\", \"Mangoes\", \"Oranges\", \"Grapes\"]\n",
    "for x,y in zip(list1,list2[::-1]):\n",
    "    print(x,y)"
   ]
  },
  {
   "cell_type": "code",
   "execution_count": 10,
   "id": "f1e43388",
   "metadata": {},
   "outputs": [
    {
     "data": {
      "text/plain": [
       "[10, 20, 30, 40]"
      ]
     },
     "execution_count": 10,
     "metadata": {},
     "output_type": "execute_result"
    }
   ],
   "source": [
    "list1[::]"
   ]
  },
  {
   "cell_type": "markdown",
   "id": "acd89810",
   "metadata": {},
   "source": [
    "### 5) Given a nested list extend it with adding sub list [\"h\", \"i\", \"j\"] in a such a way that it will look like the following list"
   ]
  },
  {
   "cell_type": "code",
   "execution_count": 3,
   "id": "58a58592",
   "metadata": {},
   "outputs": [
    {
     "name": "stdout",
     "output_type": "stream",
     "text": [
      "['a', 'b', ['c', ['d', 'e', ['f', 'g', 'h', 'i', 'j'], 'k'], 'l'], 'm', 'n']\n",
      "['a', 'b', ['c', ['d', 'e', ['f', 'g', ['h', 'i', 'j']], 'k'], 'l'], 'm', 'n']\n"
     ]
    }
   ],
   "source": [
    "lis1 =  [\"a\", \"b\", [\"c\", [\"d\", \"e\", [\"f\", \"g\"], \"k\"], \"l\"], \"m\", \"n\"]\n",
    "lis2 =  [\"a\", \"b\", [\"c\", [\"d\", \"e\", [\"f\", \"g\"], \"k\"], \"l\"], \"m\", \"n\"]\n",
    "sub_list = [\"h\", \"i\", \"j\"]\n",
    "\n",
    "lis1[2][1][2].extend(sub_list)\n",
    "print(lis1)\n",
    "\n",
    "lis2[2][1][2].append(sub_list)\n",
    "print(lis2)\n",
    "\n"
   ]
  },
  {
   "cell_type": "markdown",
   "id": "f4d14873",
   "metadata": {},
   "source": [
    "### 6) Given a Python list, write a program to remove all occurrences of item 15"
   ]
  },
  {
   "cell_type": "code",
   "execution_count": 117,
   "id": "6410ca66",
   "metadata": {},
   "outputs": [
    {
     "name": "stdout",
     "output_type": "stream",
     "text": [
      "[10, 20, 32, 54]\n"
     ]
    }
   ],
   "source": [
    "List1= [10,15,20,15,32,54,15]\n",
    "for x in List1:\n",
    "    if x== 15:\n",
    "        List1.remove(x)\n",
    "print(List1)"
   ]
  },
  {
   "cell_type": "code",
   "execution_count": 4,
   "id": "f99e481a",
   "metadata": {},
   "outputs": [
    {
     "name": "stdout",
     "output_type": "stream",
     "text": [
      "[10, 20, 32, 54]\n"
     ]
    }
   ],
   "source": [
    "List1= [10,15,20,15,32,54,15]\n",
    "while 15 in List1:\n",
    "    List1.remove(15)\n",
    "print(List1)\n",
    "    "
   ]
  },
  {
   "cell_type": "markdown",
   "id": "090382f1",
   "metadata": {},
   "source": [
    "### 7) Merge following two Python dictionaries into one"
   ]
  },
  {
   "cell_type": "code",
   "execution_count": 122,
   "id": "d8bdb7de",
   "metadata": {},
   "outputs": [
    {
     "name": "stdout",
     "output_type": "stream",
     "text": [
      "{'John': 15, 'Rick': 20, 'Misa': 12, 'Bonnie': 18, 'Matt': 16}\n"
     ]
    }
   ],
   "source": [
    "# code\n",
    "# Python code to merge dict using a single \n",
    "# expression\n",
    "def Merge(dict1, dict2):\n",
    "    res = dict1 | dict2\n",
    "    return res\n",
    "\n",
    "\n",
    "dict_1 = {'John': 15, 'Rick': 10, 'Misa': 12}\n",
    "dict_2 = {'Bonnie': 18,'Rick': 20,'Matt': 16}\n",
    "dict_3 = Merge(dict_1,dict_2)\n",
    "print(dict_3)"
   ]
  },
  {
   "cell_type": "code",
   "execution_count": 5,
   "id": "4913c56b",
   "metadata": {},
   "outputs": [
    {
     "name": "stdout",
     "output_type": "stream",
     "text": [
      "{'John': 15, 'Rick': 20, 'Misa': 12, 'Bonnie': 18, 'Matt': 16}\n"
     ]
    }
   ],
   "source": [
    "#update()\n",
    "dict_1 = {'John': 15, 'Rick': 10, 'Misa': 12}\n",
    "dict_2 = {'Bonnie': 18,'Rick': 20,'Matt': 16}\n",
    "dict_1.update(dict_2)\n",
    "print(dict_1)\n"
   ]
  },
  {
   "cell_type": "code",
   "execution_count": 6,
   "id": "10dd0016",
   "metadata": {},
   "outputs": [
    {
     "name": "stdout",
     "output_type": "stream",
     "text": [
      "{'John': 15, 'Rick': 20, 'Misa': 12, 'Bonnie': 18, 'Matt': 16}\n"
     ]
    }
   ],
   "source": [
    "#unpack operator\n",
    "dict_1 = {'John': 15, 'Rick': 10, 'Misa': 12}\n",
    "dict_2 = {'Bonnie': 18,'Rick': 20,'Matt': 16}\n",
    "dict_4 = {**dict_1,**dict_2}\n",
    "print(dict_4)"
   ]
  },
  {
   "cell_type": "markdown",
   "id": "7afcb4f6",
   "metadata": {},
   "source": [
    "### 8) Change the key of the first entry from 0 to 4 in the following dictionary"
   ]
  },
  {
   "cell_type": "code",
   "execution_count": 8,
   "id": "5a0d17f8",
   "metadata": {},
   "outputs": [
    {
     "name": "stdout",
     "output_type": "stream",
     "text": [
      "{1: 1, 2: 2, 3: 3, 4: 0}\n"
     ]
    }
   ],
   "source": [
    "d = {0: 0, 1: 1, 2: 2, 3: 3}\n",
    "k_old =0\n",
    "k_new =4\n",
    "d[k_new] = d.pop(k_old)\n",
    "print(d)"
   ]
  },
  {
   "cell_type": "markdown",
   "id": "f32dac3b",
   "metadata": {},
   "source": [
    "### 9)  two lists convert it into the dictionary"
   ]
  },
  {
   "cell_type": "code",
   "execution_count": 7,
   "id": "f8c97621",
   "metadata": {},
   "outputs": [
    {
     "name": "stdout",
     "output_type": "stream",
     "text": [
      "{'USA': 'Washington D.C.', 'France': 'Paris', 'India': 'New Delhi'}\n"
     ]
    }
   ],
   "source": [
    "country=[\"USA\",\"France\",\"India\"]\n",
    "capital= [\"Washington D.C.\",\"Paris\",\"New Delhi\"]\n",
    "zipone = zip(country,capital)\n",
    "zipdict = dict(zipone)\n",
    "print(zipdict)\n",
    "#or zipdict = dict(zip(country,capital))"
   ]
  },
  {
   "cell_type": "markdown",
   "id": "27943700",
   "metadata": {},
   "source": [
    "### 10) Delete set of keys from Python Dictionary"
   ]
  },
  {
   "cell_type": "code",
   "execution_count": 136,
   "id": "4e96c5a0",
   "metadata": {},
   "outputs": [
    {
     "name": "stdout",
     "output_type": "stream",
     "text": [
      "{'Fruit': 'Pear', 'Vegetable': 'Carrot', 'Pet': 'Cat'}\n"
     ]
    }
   ],
   "source": [
    "My_dict = {\"Fruit\": \"Pear\",\n",
    "       \"Vegetable\": \"Carrot\",\n",
    "       \"Pet\": \"Cat\",\n",
    "       \"Book\": \"Moby dick\",\n",
    "       \"Crystal\": \"Amethyst\"\n",
    "             }\n",
    "\n",
    "My_dict.pop(\"Book\")\n",
    "My_dict.pop(\"Crystal\")\n",
    "\n",
    "print(My_dict)\n",
    "   "
   ]
  },
  {
   "cell_type": "code",
   "execution_count": 9,
   "id": "2078bcf7",
   "metadata": {},
   "outputs": [
    {
     "name": "stdout",
     "output_type": "stream",
     "text": [
      "{'Fruit': 'Pear', 'Vegetable': 'Carrot', 'Pet': 'Cat'}\n"
     ]
    }
   ],
   "source": [
    "My_dict = {\"Fruit\": \"Pear\",\n",
    "       \"Vegetable\": \"Carrot\",\n",
    "       \"Pet\": \"Cat\",\n",
    "       \"Book\": \"Moby dick\",\n",
    "       \"Crystal\": \"Amethyst\"\n",
    "             }\n",
    "keys =['Book','Crystal']\n",
    "for i in keys:\n",
    "    My_dict.pop(i)\n",
    "print(My_dict)\n",
    "    "
   ]
  },
  {
   "cell_type": "markdown",
   "id": "2629126d",
   "metadata": {},
   "source": [
    "### 11) Create a new dictionary by extracting the following keys from a given dictionary"
   ]
  },
  {
   "cell_type": "code",
   "execution_count": 138,
   "id": "105b3527",
   "metadata": {},
   "outputs": [
    {
     "name": "stdout",
     "output_type": "stream",
     "text": [
      "{'sci': 100, 'chem': 98, 'math': 100}\n"
     ]
    }
   ],
   "source": [
    "sub_dict = {'math' : 100, 'chem' : 98, 'sci' : 100,'eng':100}\n",
    "\n",
    "res = {key: sub_dict[key] for key in sub_dict.keys()\n",
    "& {'math', 'chem','sci'}}\n",
    "\n",
    "print(res)\n"
   ]
  },
  {
   "cell_type": "markdown",
   "id": "73ae337d",
   "metadata": {},
   "source": [
    "### 12) Given a list iterate it and display numbers which are divisible by 5."
   ]
  },
  {
   "cell_type": "code",
   "execution_count": 11,
   "id": "0184daf2",
   "metadata": {},
   "outputs": [
    {
     "name": "stdout",
     "output_type": "stream",
     "text": [
      "[15, 55, 75, 150, 180, 200]\n"
     ]
    }
   ],
   "source": [
    "list1 = [12, 15, 32, 42, 55, 75, 122, 132, 150, 180, 200]\n",
    "list2 =[]\n",
    "for x in list1:\n",
    "    if x % 5 == 0:\n",
    "        list2.append(x)\n",
    "print(list2)"
   ]
  },
  {
   "cell_type": "code",
   "execution_count": 10,
   "id": "2d3066df",
   "metadata": {},
   "outputs": [
    {
     "name": "stdout",
     "output_type": "stream",
     "text": [
      "[15, 55, 75, 150, 180, 200]\n"
     ]
    }
   ],
   "source": [
    "list1 = [12, 15, 32, 42, 55, 75, 122, 132, 150, 180, 200]\n",
    "list5 = [i for i in list1 if i%5==0]\n",
    "print(list5)"
   ]
  },
  {
   "cell_type": "markdown",
   "id": "da767874",
   "metadata": {},
   "source": [
    "### 13) Write a program to display only those numbers from a list that satisfy the following \n",
    "conditions\n",
    "• The number must be divisible by five\n",
    "• If the number is greater than 150, then skip it and move to the next number\n",
    "• If the number is greater than 500, then stop the loop\n",
    " numbers = [12, 75, 150, 180, 145, 525, 50]\n"
   ]
  },
  {
   "cell_type": "code",
   "execution_count": 13,
   "id": "2f8cfdb0",
   "metadata": {},
   "outputs": [
    {
     "name": "stdout",
     "output_type": "stream",
     "text": [
      "75\n",
      "150\n",
      "145\n"
     ]
    }
   ],
   "source": [
    "numbers = [12, 75, 150, 180, 145, 525, 50]\n",
    "for item in numbers:\n",
    "    if item >500:\n",
    "        break\n",
    "    elif item >150:\n",
    "        continue\n",
    "    elif item%5==0:\n",
    "        print(item)"
   ]
  },
  {
   "cell_type": "markdown",
   "id": "7c5c7d31",
   "metadata": {},
   "source": [
    "### 14) Write a Python program to count Uppercase, Lowercase, special character and numeric values in a given string"
   ]
  },
  {
   "cell_type": "code",
   "execution_count": 18,
   "id": "9949e9d9",
   "metadata": {},
   "outputs": [],
   "source": [
    "str = \"@W3Resource.Com\"\n",
    "def count_chars(str):\n",
    "    upper_ct,lower_cnt,number_cnt,special_ctr =0,0,0,0\n",
    "    for i in range(len(str)):\n",
    "        if str[i] >= 'A' and str[i] <= 'Z':upper_ct +=1\n",
    "        elif str[i] >= 'a' and str[i] <= 'z': lower_cnt +=1\n",
    "        elif str[i] >= '0' and str[i] <= '9':number_cnt +=1\n",
    "        else :special_ctr +=1\n",
    "    return upper_ct,lower_cnt,number_cnt,special_ctr"
   ]
  },
  {
   "cell_type": "code",
   "execution_count": 20,
   "id": "d295b038",
   "metadata": {},
   "outputs": [
    {
     "name": "stdout",
     "output_type": "stream",
     "text": [
      "Original Substrings. @W3Resource.Com\n",
      "\n",
      "Upper case characters : 3\n",
      "Lower case characters : 9\n",
      "Numbers : 1\n",
      "Special characters : 2\n"
     ]
    }
   ],
   "source": [
    "print(\"Original Substrings.\" ,str)\n",
    "u,l,n,s = count_chars(str)\n",
    "print('\\nUpper case characters :',u)\n",
    "print('Lower case characters :',l)\n",
    "print('Numbers :',n)\n",
    "print('Special characters :',s)"
   ]
  },
  {
   "cell_type": "markdown",
   "id": "18f7013d",
   "metadata": {},
   "source": [
    "### 15) Write a program to calculate the sum of series up to n term. For example, if n =5 the series will become 2 + 22 + 222 + 2222 + 22222 = 24690"
   ]
  },
  {
   "cell_type": "code",
   "execution_count": 23,
   "id": "b496691d",
   "metadata": {},
   "outputs": [
    {
     "name": "stdout",
     "output_type": "stream",
     "text": [
      "2+22+222+2222+22222+\n",
      "Sum of above series is  24690\n"
     ]
    }
   ],
   "source": [
    "n = 5\n",
    "start =2\n",
    "sum_seq =0\n",
    "\n",
    "for i in range(0,n):\n",
    "    print(start,end=\"+\")\n",
    "    sum_seq+= start\n",
    "    #calculate the next term\n",
    "    start = start * 10 +2\n",
    "print(\"\\nSum of above series is \",sum_seq)"
   ]
  }
 ],
 "metadata": {
  "kernelspec": {
   "display_name": "Python 3 (ipykernel)",
   "language": "python",
   "name": "python3"
  },
  "language_info": {
   "codemirror_mode": {
    "name": "ipython",
    "version": 3
   },
   "file_extension": ".py",
   "mimetype": "text/x-python",
   "name": "python",
   "nbconvert_exporter": "python",
   "pygments_lexer": "ipython3",
   "version": "3.9.7"
  }
 },
 "nbformat": 4,
 "nbformat_minor": 5
}
